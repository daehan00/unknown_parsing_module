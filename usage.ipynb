{
 "cells": [
  {
   "cell_type": "code",
   "execution_count": null,
   "id": "73ad390a",
   "metadata": {},
   "outputs": [],
   "source": [
    "from unknown_data import Category, Encoder, DataLoader, DataSaver\n",
    "\n",
    "\n",
    "loader = DataLoader()\n",
    "saver = DataSaver()\n",
    "encoder = Encoder()\n",
    "\n",
    "# data/agent_result 폴더에 json 파일이 있는 상황에서 동작.\n",
    "for category in Category:\n",
    "    data = loader.local_data_load(category)\n",
    "    _encoder = encoder._get_encoder(category)\n",
    "    _encoder.convert_data(data)\n",
    "\n",
    "    saver.set_result_dir(f\"./data/result/{category.value}\")\n",
    "    results = _encoder.get_result_dfs()\n",
    "    saver.save_all(results)"
   ]
  },
  {
   "cell_type": "code",
   "execution_count": null,
   "id": "a51b7fce",
   "metadata": {},
   "outputs": [],
   "source": [
    "\"\"\"S3 데이터 로더 사용 예제\"\"\"\n",
    "\n",
    "\"\"\"\n",
    "사전 작업\n",
    "\n",
    "1. iam -> 엑세스 키 ID와 PW 준비\n",
    "2. aws cli 설치\n",
    "3. aws configure -> 엑세스 키 입력, 리전 입력\n",
    "\n",
    "\"\"\"\n",
    "\n",
    "from unknown_data import Category, Encoder, DataLoader, DataSaver\n",
    "\n",
    "\n",
    "loader = DataLoader()\n",
    "saver = DataSaver()\n",
    "encoder = Encoder()\n",
    "\n",
    "\n",
    "# S3 설정 (task_id 기반 구조)\n",
    "s3_config = {\n",
    "    'bucket': 'your-bucket-name',           # S3 버킷 이름\n",
    "    'task_id': 'specific-task-id',          # 작업 ID (UUID)\n",
    "    'region': 'ap-northeast-2',             # AWS 리전\n",
    "    'profile': 'default'                    # AWS 프로파일 (선택사항)\n",
    "}\n",
    "\n",
    "\n",
    "print(\"=== S3 데이터 로더 사용 예제 ===\\n\")\n",
    "\n",
    "for category in Category:\n",
    "    try:\n",
    "        print(f\"{category.value} 데이터 로드 중...\")\n",
    "        data = loader.s3_data_load(category, s3_config)\n",
    "        _encoder = encoder._get_encoder(category)\n",
    "        _encoder.convert_data(data)\n",
    "\n",
    "        saver.set_result_dir(f\"./data/result/{category.value}\")\n",
    "        results = _encoder.get_result_dfs()\n",
    "        saver.save_all(results)\n",
    "    except Exception as e:\n",
    "        print(f\"{category.value} 데이터 로드 실패: {e}\")\n"
   ]
  }
 ],
 "metadata": {
  "kernelspec": {
   "display_name": "venv",
   "language": "python",
   "name": "python3"
  },
  "language_info": {
   "codemirror_mode": {
    "name": "ipython",
    "version": 3
   },
   "file_extension": ".py",
   "mimetype": "text/x-python",
   "name": "python",
   "nbconvert_exporter": "python",
   "pygments_lexer": "ipython3",
   "version": "3.13.3"
  }
 },
 "nbformat": 4,
 "nbformat_minor": 5
}
